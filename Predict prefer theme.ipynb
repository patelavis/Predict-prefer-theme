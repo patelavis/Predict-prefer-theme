{
 "cells": [
  {
   "cell_type": "code",
   "execution_count": null,
   "id": "d75eb846",
   "metadata": {},
   "outputs": [],
   "source": []
  },
  {
   "cell_type": "code",
   "execution_count": 1,
   "id": "9458e897",
   "metadata": {
    "ExecuteTime": {
     "end_time": "2022-04-13T09:07:28.164028Z",
     "start_time": "2022-04-13T09:07:26.156873Z"
    }
   },
   "outputs": [],
   "source": [
    "import pandas as pd\n",
    "import numpy as np\n",
    "import seaborn as sns\n",
    "import matplotlib.pyplot as plt"
   ]
  },
  {
   "cell_type": "code",
   "execution_count": 82,
   "id": "f4d731a2",
   "metadata": {
    "ExecuteTime": {
     "end_time": "2022-04-13T10:19:57.882251Z",
     "start_time": "2022-04-13T10:19:57.726573Z"
    }
   },
   "outputs": [
    {
     "data": {
      "text/html": [
       "<div>\n",
       "<style scoped>\n",
       "    .dataframe tbody tr th:only-of-type {\n",
       "        vertical-align: middle;\n",
       "    }\n",
       "\n",
       "    .dataframe tbody tr th {\n",
       "        vertical-align: top;\n",
       "    }\n",
       "\n",
       "    .dataframe thead th {\n",
       "        text-align: right;\n",
       "    }\n",
       "</style>\n",
       "<table border=\"1\" class=\"dataframe\">\n",
       "  <thead>\n",
       "    <tr style=\"text-align: right;\">\n",
       "      <th></th>\n",
       "      <th>CustomerID</th>\n",
       "      <th>Age</th>\n",
       "      <th>Gender</th>\n",
       "      <th>City</th>\n",
       "      <th>State</th>\n",
       "      <th>No_of_orders_placed</th>\n",
       "      <th>Sign_up_date</th>\n",
       "      <th>Last_order_placed_date</th>\n",
       "      <th>is_premium_member</th>\n",
       "      <th>Women’s_Clothing</th>\n",
       "      <th>Men’s_Clothing</th>\n",
       "      <th>Kid’s_Clothing</th>\n",
       "      <th>Home_&amp;_Living</th>\n",
       "      <th>Beauty</th>\n",
       "      <th>Electronics</th>\n",
       "      <th>Preferred_Theme</th>\n",
       "    </tr>\n",
       "  </thead>\n",
       "  <tbody>\n",
       "    <tr>\n",
       "      <th>0</th>\n",
       "      <td>CusID_00126</td>\n",
       "      <td>22.0</td>\n",
       "      <td>Male</td>\n",
       "      <td>Vancouver</td>\n",
       "      <td>British Columbia</td>\n",
       "      <td>4.0</td>\n",
       "      <td>2017-06-23</td>\n",
       "      <td>2021-04-01</td>\n",
       "      <td>0</td>\n",
       "      <td>2.945701</td>\n",
       "      <td>8.924431</td>\n",
       "      <td>2.000000</td>\n",
       "      <td>2.325376</td>\n",
       "      <td>1.924891</td>\n",
       "      <td>9.820254</td>\n",
       "      <td>New_UI</td>\n",
       "    </tr>\n",
       "    <tr>\n",
       "      <th>1</th>\n",
       "      <td>CusID_00927</td>\n",
       "      <td>NaN</td>\n",
       "      <td>Female</td>\n",
       "      <td>Budapest</td>\n",
       "      <td>Central Hungary</td>\n",
       "      <td>9.0</td>\n",
       "      <td>2018-05-21</td>\n",
       "      <td>2020-01-26</td>\n",
       "      <td>0</td>\n",
       "      <td>6.115229</td>\n",
       "      <td>2.363926</td>\n",
       "      <td>6.968752</td>\n",
       "      <td>7.355854</td>\n",
       "      <td>8.561461</td>\n",
       "      <td>2.162229</td>\n",
       "      <td>Old_UI</td>\n",
       "    </tr>\n",
       "    <tr>\n",
       "      <th>2</th>\n",
       "      <td>CusID_01646</td>\n",
       "      <td>26.0</td>\n",
       "      <td>Male</td>\n",
       "      <td>Mumbai</td>\n",
       "      <td>Maharashtra</td>\n",
       "      <td>NaN</td>\n",
       "      <td>2019-02-15</td>\n",
       "      <td>2020-11-28</td>\n",
       "      <td>0</td>\n",
       "      <td>1.000000</td>\n",
       "      <td>3.000000</td>\n",
       "      <td>1.766530</td>\n",
       "      <td>3.471802</td>\n",
       "      <td>0.808147</td>\n",
       "      <td>9.055563</td>\n",
       "      <td>New_UI</td>\n",
       "    </tr>\n",
       "    <tr>\n",
       "      <th>3</th>\n",
       "      <td>CusID_06228</td>\n",
       "      <td>NaN</td>\n",
       "      <td>Male</td>\n",
       "      <td>San Francisco</td>\n",
       "      <td>California</td>\n",
       "      <td>7.0</td>\n",
       "      <td>2019-07-18</td>\n",
       "      <td>2020-11-16</td>\n",
       "      <td>0</td>\n",
       "      <td>2.116475</td>\n",
       "      <td>9.064060</td>\n",
       "      <td>5.387599</td>\n",
       "      <td>NaN</td>\n",
       "      <td>0.459090</td>\n",
       "      <td>7.343461</td>\n",
       "      <td>New_UI</td>\n",
       "    </tr>\n",
       "    <tr>\n",
       "      <th>4</th>\n",
       "      <td>CusID_04239</td>\n",
       "      <td>29.0</td>\n",
       "      <td>Female</td>\n",
       "      <td>Taipei</td>\n",
       "      <td>Taiwan</td>\n",
       "      <td>NaN</td>\n",
       "      <td>2018-02-05</td>\n",
       "      <td>2020-03-12</td>\n",
       "      <td>0</td>\n",
       "      <td>7.352878</td>\n",
       "      <td>1.995744</td>\n",
       "      <td>2.676853</td>\n",
       "      <td>7.159554</td>\n",
       "      <td>8.184695</td>\n",
       "      <td>2.000000</td>\n",
       "      <td>Old_UI</td>\n",
       "    </tr>\n",
       "    <tr>\n",
       "      <th>...</th>\n",
       "      <td>...</td>\n",
       "      <td>...</td>\n",
       "      <td>...</td>\n",
       "      <td>...</td>\n",
       "      <td>...</td>\n",
       "      <td>...</td>\n",
       "      <td>...</td>\n",
       "      <td>...</td>\n",
       "      <td>...</td>\n",
       "      <td>...</td>\n",
       "      <td>...</td>\n",
       "      <td>...</td>\n",
       "      <td>...</td>\n",
       "      <td>...</td>\n",
       "      <td>...</td>\n",
       "      <td>...</td>\n",
       "    </tr>\n",
       "    <tr>\n",
       "      <th>15145</th>\n",
       "      <td>CusID_01855</td>\n",
       "      <td>28.0</td>\n",
       "      <td>Not_Specified</td>\n",
       "      <td>Kolkata</td>\n",
       "      <td>New South Wales</td>\n",
       "      <td>6.0</td>\n",
       "      <td>2017-11-18</td>\n",
       "      <td>2020-07-24</td>\n",
       "      <td>0</td>\n",
       "      <td>1.074235</td>\n",
       "      <td>3.328216</td>\n",
       "      <td>9.075440</td>\n",
       "      <td>5.929733</td>\n",
       "      <td>2.081818</td>\n",
       "      <td>4.225626</td>\n",
       "      <td>Old_UI</td>\n",
       "    </tr>\n",
       "    <tr>\n",
       "      <th>15146</th>\n",
       "      <td>CusID_08497</td>\n",
       "      <td>25.0</td>\n",
       "      <td>Male</td>\n",
       "      <td>Sydney</td>\n",
       "      <td>New South Wales</td>\n",
       "      <td>8.0</td>\n",
       "      <td>2017-09-26</td>\n",
       "      <td>2020-03-11</td>\n",
       "      <td>0</td>\n",
       "      <td>0.604496</td>\n",
       "      <td>6.349027</td>\n",
       "      <td>0.413908</td>\n",
       "      <td>4.159025</td>\n",
       "      <td>1.214793</td>\n",
       "      <td>8.482181</td>\n",
       "      <td>New_UI</td>\n",
       "    </tr>\n",
       "    <tr>\n",
       "      <th>15147</th>\n",
       "      <td>CusID_01667</td>\n",
       "      <td>32.0</td>\n",
       "      <td>Female</td>\n",
       "      <td>San Francisco</td>\n",
       "      <td>Singapore</td>\n",
       "      <td>7.0</td>\n",
       "      <td>2018-06-09</td>\n",
       "      <td>2021-04-05</td>\n",
       "      <td>1</td>\n",
       "      <td>3.812781</td>\n",
       "      <td>2.869684</td>\n",
       "      <td>6.213548</td>\n",
       "      <td>NaN</td>\n",
       "      <td>7.477459</td>\n",
       "      <td>2.861971</td>\n",
       "      <td>Old_UI</td>\n",
       "    </tr>\n",
       "    <tr>\n",
       "      <th>15148</th>\n",
       "      <td>CusID_09014</td>\n",
       "      <td>32.0</td>\n",
       "      <td>Female</td>\n",
       "      <td>Sydney</td>\n",
       "      <td>New Delhi</td>\n",
       "      <td>10.0</td>\n",
       "      <td>2016-01-23</td>\n",
       "      <td>2020-08-23</td>\n",
       "      <td>0</td>\n",
       "      <td>4.607484</td>\n",
       "      <td>1.370857</td>\n",
       "      <td>6.108666</td>\n",
       "      <td>7.324654</td>\n",
       "      <td>7.748538</td>\n",
       "      <td>5.009866</td>\n",
       "      <td>New_UI</td>\n",
       "    </tr>\n",
       "    <tr>\n",
       "      <th>15149</th>\n",
       "      <td>CusID_02218</td>\n",
       "      <td>22.0</td>\n",
       "      <td>Not_Specified</td>\n",
       "      <td>Berlin</td>\n",
       "      <td>Berlin</td>\n",
       "      <td>1.0</td>\n",
       "      <td>2019-02-19</td>\n",
       "      <td>2020-01-15</td>\n",
       "      <td>1</td>\n",
       "      <td>4.232741</td>\n",
       "      <td>2.020077</td>\n",
       "      <td>5.651068</td>\n",
       "      <td>3.103405</td>\n",
       "      <td>4.312872</td>\n",
       "      <td>2.728655</td>\n",
       "      <td>Old_UI</td>\n",
       "    </tr>\n",
       "  </tbody>\n",
       "</table>\n",
       "<p>15150 rows × 16 columns</p>\n",
       "</div>"
      ],
      "text/plain": [
       "        CustomerID   Age         Gender           City             State  \\\n",
       "0      CusID_00126  22.0           Male      Vancouver  British Columbia   \n",
       "1      CusID_00927   NaN         Female       Budapest   Central Hungary   \n",
       "2      CusID_01646  26.0           Male         Mumbai       Maharashtra   \n",
       "3      CusID_06228   NaN           Male  San Francisco        California   \n",
       "4      CusID_04239  29.0         Female         Taipei            Taiwan   \n",
       "...            ...   ...            ...            ...               ...   \n",
       "15145  CusID_01855  28.0  Not_Specified        Kolkata   New South Wales   \n",
       "15146  CusID_08497  25.0           Male         Sydney   New South Wales   \n",
       "15147  CusID_01667  32.0         Female  San Francisco         Singapore   \n",
       "15148  CusID_09014  32.0         Female         Sydney         New Delhi   \n",
       "15149  CusID_02218  22.0  Not_Specified         Berlin            Berlin   \n",
       "\n",
       "       No_of_orders_placed Sign_up_date Last_order_placed_date  \\\n",
       "0                      4.0   2017-06-23             2021-04-01   \n",
       "1                      9.0   2018-05-21             2020-01-26   \n",
       "2                      NaN   2019-02-15             2020-11-28   \n",
       "3                      7.0   2019-07-18             2020-11-16   \n",
       "4                      NaN   2018-02-05             2020-03-12   \n",
       "...                    ...          ...                    ...   \n",
       "15145                  6.0   2017-11-18             2020-07-24   \n",
       "15146                  8.0   2017-09-26             2020-03-11   \n",
       "15147                  7.0   2018-06-09             2021-04-05   \n",
       "15148                 10.0   2016-01-23             2020-08-23   \n",
       "15149                  1.0   2019-02-19             2020-01-15   \n",
       "\n",
       "       is_premium_member  Women’s_Clothing  Men’s_Clothing  Kid’s_Clothing  \\\n",
       "0                      0          2.945701        8.924431        2.000000   \n",
       "1                      0          6.115229        2.363926        6.968752   \n",
       "2                      0          1.000000        3.000000        1.766530   \n",
       "3                      0          2.116475        9.064060        5.387599   \n",
       "4                      0          7.352878        1.995744        2.676853   \n",
       "...                  ...               ...             ...             ...   \n",
       "15145                  0          1.074235        3.328216        9.075440   \n",
       "15146                  0          0.604496        6.349027        0.413908   \n",
       "15147                  1          3.812781        2.869684        6.213548   \n",
       "15148                  0          4.607484        1.370857        6.108666   \n",
       "15149                  1          4.232741        2.020077        5.651068   \n",
       "\n",
       "       Home_&_Living    Beauty  Electronics Preferred_Theme  \n",
       "0           2.325376  1.924891     9.820254          New_UI  \n",
       "1           7.355854  8.561461     2.162229          Old_UI  \n",
       "2           3.471802  0.808147     9.055563          New_UI  \n",
       "3                NaN  0.459090     7.343461          New_UI  \n",
       "4           7.159554  8.184695     2.000000          Old_UI  \n",
       "...              ...       ...          ...             ...  \n",
       "15145       5.929733  2.081818     4.225626          Old_UI  \n",
       "15146       4.159025  1.214793     8.482181          New_UI  \n",
       "15147            NaN  7.477459     2.861971          Old_UI  \n",
       "15148       7.324654  7.748538     5.009866          New_UI  \n",
       "15149       3.103405  4.312872     2.728655          Old_UI  \n",
       "\n",
       "[15150 rows x 16 columns]"
      ]
     },
     "execution_count": 82,
     "metadata": {},
     "output_type": "execute_result"
    }
   ],
   "source": [
    "df_train = pd.read_csv('train.csv', na_values=['?'])\n",
    "df_test = pd.read_csv('test.csv', na_values=['?'])\n",
    "df_sample = pd.read_csv('sample_submission.csv')\n",
    "df_train"
   ]
  },
  {
   "cell_type": "code",
   "execution_count": 3,
   "id": "32090e1b",
   "metadata": {
    "ExecuteTime": {
     "end_time": "2022-04-13T09:07:28.337567Z",
     "start_time": "2022-04-13T09:07:28.277729Z"
    }
   },
   "outputs": [
    {
     "name": "stdout",
     "output_type": "stream",
     "text": [
      "<class 'pandas.core.frame.DataFrame'>\n",
      "RangeIndex: 15150 entries, 0 to 15149\n",
      "Data columns (total 16 columns):\n",
      " #   Column                  Non-Null Count  Dtype  \n",
      "---  ------                  --------------  -----  \n",
      " 0   CustomerID              15150 non-null  object \n",
      " 1   Age                     14147 non-null  float64\n",
      " 2   Gender                  15150 non-null  object \n",
      " 3   City                    14704 non-null  object \n",
      " 4   State                   15150 non-null  object \n",
      " 5   No_of_orders_placed     14377 non-null  float64\n",
      " 6   Sign_up_date            14996 non-null  object \n",
      " 7   Last_order_placed_date  15150 non-null  object \n",
      " 8   is_premium_member       15150 non-null  int64  \n",
      " 9   Women’s_Clothing        15150 non-null  float64\n",
      " 10  Men’s_Clothing          15150 non-null  float64\n",
      " 11  Kid’s_Clothing          14215 non-null  float64\n",
      " 12  Home_&_Living           14302 non-null  float64\n",
      " 13  Beauty                  15150 non-null  float64\n",
      " 14  Electronics             15150 non-null  float64\n",
      " 15  Preferred_Theme         15150 non-null  object \n",
      "dtypes: float64(8), int64(1), object(7)\n",
      "memory usage: 1.8+ MB\n",
      "<class 'pandas.core.frame.DataFrame'>\n",
      "RangeIndex: 1850 entries, 0 to 1849\n",
      "Data columns (total 15 columns):\n",
      " #   Column                  Non-Null Count  Dtype  \n",
      "---  ------                  --------------  -----  \n",
      " 0   CustomerID              1850 non-null   object \n",
      " 1   Age                     1819 non-null   float64\n",
      " 2   Gender                  1850 non-null   object \n",
      " 3   City                    1850 non-null   object \n",
      " 4   State                   1850 non-null   object \n",
      " 5   No_of_orders_placed     1778 non-null   float64\n",
      " 6   Sign_up_date            1850 non-null   object \n",
      " 7   Last_order_placed_date  1850 non-null   object \n",
      " 8   is_premium_member       1850 non-null   int64  \n",
      " 9   Women’s_Clothing        1850 non-null   float64\n",
      " 10  Men’s_Clothing          1850 non-null   float64\n",
      " 11  Kid’s_Clothing          1827 non-null   float64\n",
      " 12  Home_&_Living           1827 non-null   float64\n",
      " 13  Beauty                  1850 non-null   float64\n",
      " 14  Electronics             1850 non-null   float64\n",
      "dtypes: float64(8), int64(1), object(6)\n",
      "memory usage: 216.9+ KB\n",
      "<class 'pandas.core.frame.DataFrame'>\n",
      "RangeIndex: 5 entries, 0 to 4\n",
      "Data columns (total 2 columns):\n",
      " #   Column           Non-Null Count  Dtype \n",
      "---  ------           --------------  ----- \n",
      " 0   CustomerID       5 non-null      object\n",
      " 1   Preferred_Theme  5 non-null      object\n",
      "dtypes: object(2)\n",
      "memory usage: 208.0+ bytes\n"
     ]
    },
    {
     "data": {
      "text/plain": [
       "(None, None, None)"
      ]
     },
     "execution_count": 3,
     "metadata": {},
     "output_type": "execute_result"
    }
   ],
   "source": [
    "df_train.info() , df_test.info() , df_sample.info()"
   ]
  },
  {
   "cell_type": "code",
   "execution_count": 4,
   "id": "fbe8b456",
   "metadata": {
    "ExecuteTime": {
     "end_time": "2022-04-13T09:07:28.372474Z",
     "start_time": "2022-04-13T09:07:28.340560Z"
    }
   },
   "outputs": [
    {
     "data": {
      "text/plain": [
       "CustomerID                   0\n",
       "Age                       1003\n",
       "Gender                       0\n",
       "City                       446\n",
       "State                        0\n",
       "No_of_orders_placed        773\n",
       "Sign_up_date               154\n",
       "Last_order_placed_date       0\n",
       "is_premium_member            0\n",
       "Women’s_Clothing             0\n",
       "Men’s_Clothing               0\n",
       "Kid’s_Clothing             935\n",
       "Home_&_Living              848\n",
       "Beauty                       0\n",
       "Electronics                  0\n",
       "Preferred_Theme              0\n",
       "dtype: int64"
      ]
     },
     "execution_count": 4,
     "metadata": {},
     "output_type": "execute_result"
    }
   ],
   "source": [
    "df_train.isna().sum()"
   ]
  },
  {
   "cell_type": "markdown",
   "id": "236ed5c1",
   "metadata": {
    "ExecuteTime": {
     "end_time": "2022-04-13T06:23:11.631566Z",
     "start_time": "2022-04-13T06:23:11.607605Z"
    }
   },
   "source": [
    "### Age"
   ]
  },
  {
   "cell_type": "code",
   "execution_count": 5,
   "id": "ded7dab8",
   "metadata": {
    "ExecuteTime": {
     "end_time": "2022-04-13T09:07:29.049833Z",
     "start_time": "2022-04-13T09:07:28.401397Z"
    }
   },
   "outputs": [
    {
     "data": {
      "image/png": "[encoded data removed]",
      "text/plain": [
       "<Figure size 1080x360 with 1 Axes>"
      ]
     },
     "metadata": {
      "needs_background": "light"
     },
     "output_type": "display_data"
    }
   ],
   "source": [
    "# Show value counts for a Age variable\n",
    "plt.figure(figsize=(15, 5))\n",
    "sns.countplot(x=df_train['Age']);"
   ]
  },
  {
   "cell_type": "code",
   "execution_count": 6,
   "id": "3d07c228",
   "metadata": {
    "ExecuteTime": {
     "end_time": "2022-04-13T09:07:29.081749Z",
     "start_time": "2022-04-13T09:07:29.053351Z"
    }
   },
   "outputs": [
    {
     "data": {
      "text/plain": [
       "count    14147.000000\n",
       "mean        28.356613\n",
       "std          7.563249\n",
       "min         15.000000\n",
       "25%         22.000000\n",
       "50%         29.000000\n",
       "75%         33.000000\n",
       "max         50.000000\n",
       "Name: Age, dtype: float64"
      ]
     },
     "execution_count": 6,
     "metadata": {},
     "output_type": "execute_result"
    }
   ],
   "source": [
    "df_train['Age'].describe()"
   ]
  },
  {
   "cell_type": "code",
   "execution_count": 7,
   "id": "8f4d5e02",
   "metadata": {
    "ExecuteTime": {
     "end_time": "2022-04-13T09:07:29.097727Z",
     "start_time": "2022-04-13T09:07:29.085336Z"
    }
   },
   "outputs": [],
   "source": [
    "df_train['Age'].fillna(value=29, inplace=True)"
   ]
  },
  {
   "cell_type": "markdown",
   "id": "1fc93e64",
   "metadata": {},
   "source": [
    "### Gender"
   ]
  },
  {
   "cell_type": "code",
   "execution_count": 8,
   "id": "828f1a5a",
   "metadata": {
    "ExecuteTime": {
     "end_time": "2022-04-13T09:07:29.240323Z",
     "start_time": "2022-04-13T09:07:29.101695Z"
    }
   },
   "outputs": [
    {
     "data": {
      "image/png": "[encoded data removed]",
      "text/plain": [
       "<Figure size 360x216 with 1 Axes>"
      ]
     },
     "metadata": {
      "needs_background": "light"
     },
     "output_type": "display_data"
    }
   ],
   "source": [
    "# Show value counts for a Gender\n",
    "plt.figure(figsize=(5, 3))\n",
    "sns.countplot(x=df_train['Gender']);"
   ]
  },
  {
   "cell_type": "markdown",
   "id": "2028b2c2",
   "metadata": {},
   "source": [
    "### City"
   ]
  },
  {
   "cell_type": "code",
   "execution_count": 9,
   "id": "ec50b899",
   "metadata": {
    "ExecuteTime": {
     "end_time": "2022-04-13T09:07:29.556646Z",
     "start_time": "2022-04-13T09:07:29.243317Z"
    }
   },
   "outputs": [
    {
     "data": {
      "image/png": "[encoded data removed]",
      "text/plain": [
       "<Figure size 1080x216 with 1 Axes>"
      ]
     },
     "metadata": {
      "needs_background": "light"
     },
     "output_type": "display_data"
    }
   ],
   "source": [
    "plt.figure(figsize=(15, 3))\n",
    "df_train['City'].fillna(value='None', inplace=True)\n",
    "sns.countplot(x=df_train['City'])\n",
    "plt.xticks(rotation=45);"
   ]
  },
  {
   "cell_type": "markdown",
   "id": "bd095d20",
   "metadata": {},
   "source": [
    "### State"
   ]
  },
  {
   "cell_type": "code",
   "execution_count": 10,
   "id": "abb13d79",
   "metadata": {
    "ExecuteTime": {
     "end_time": "2022-04-13T09:07:29.873502Z",
     "start_time": "2022-04-13T09:07:29.558614Z"
    }
   },
   "outputs": [
    {
     "data": {
      "image/png": "[encoded data removed]",
      "text/plain": [
       "<Figure size 1080x216 with 1 Axes>"
      ]
     },
     "metadata": {
      "needs_background": "light"
     },
     "output_type": "display_data"
    }
   ],
   "source": [
    "plt.figure(figsize=(15, 3))\n",
    "sns.countplot(x=df_train['State'])\n",
    "plt.xticks(rotation=45);"
   ]
  },
  {
   "cell_type": "markdown",
   "id": "04f351b6",
   "metadata": {},
   "source": [
    "### No Of Orders Placed"
   ]
  },
  {
   "cell_type": "code",
   "execution_count": 11,
   "id": "214b9349",
   "metadata": {
    "ExecuteTime": {
     "end_time": "2022-04-13T09:07:30.063794Z",
     "start_time": "2022-04-13T09:07:29.876494Z"
    }
   },
   "outputs": [
    {
     "data": {
      "image/png": "[encoded data removed]",
      "text/plain": [
       "<Figure size 1080x216 with 1 Axes>"
      ]
     },
     "metadata": {
      "needs_background": "light"
     },
     "output_type": "display_data"
    }
   ],
   "source": [
    "plt.figure(figsize=(15, 3))\n",
    "sns.countplot(x=df_train['No_of_orders_placed']);"
   ]
  },
  {
   "cell_type": "code",
   "execution_count": 12,
   "id": "77ded2f7",
   "metadata": {
    "ExecuteTime": {
     "end_time": "2022-04-13T09:07:30.095458Z",
     "start_time": "2022-04-13T09:07:30.073767Z"
    }
   },
   "outputs": [
    {
     "data": {
      "text/plain": [
       "array([ 4.,  9., nan,  7., 15., 14.,  5.,  8., 10.,  3.,  0., 13., 12.,\n",
       "       11.,  6.,  1.,  2.])"
      ]
     },
     "execution_count": 12,
     "metadata": {},
     "output_type": "execute_result"
    }
   ],
   "source": [
    "df_train['No_of_orders_placed'].unique()"
   ]
  },
  {
   "cell_type": "markdown",
   "id": "54957531",
   "metadata": {},
   "source": [
    "> Note: In `No of orders placed` have null value that means that person not placed any order so we put all null value with `0.0`."
   ]
  },
  {
   "cell_type": "code",
   "execution_count": 13,
   "id": "6ecd587f",
   "metadata": {
    "ExecuteTime": {
     "end_time": "2022-04-13T09:07:30.111373Z",
     "start_time": "2022-04-13T09:07:30.101727Z"
    }
   },
   "outputs": [],
   "source": [
    "df_train['No_of_orders_placed'].fillna(value=0., inplace=True)"
   ]
  },
  {
   "cell_type": "markdown",
   "id": "cf245696",
   "metadata": {},
   "source": [
    "### Sign up date"
   ]
  },
  {
   "cell_type": "code",
   "execution_count": 14,
   "id": "71f181b2",
   "metadata": {
    "ExecuteTime": {
     "end_time": "2022-04-13T09:07:30.158795Z",
     "start_time": "2022-04-13T09:07:30.115362Z"
    }
   },
   "outputs": [],
   "source": [
    "df_train['Sign_up_date'] = pd.DatetimeIndex(df_train['Sign_up_date'])\n",
    "df_train['Sign_up_Year'] = df_train['Sign_up_date'].dt.year\n",
    "df_train['Sign_up_Year'].fillna(df_train['Sign_up_Year'].median(), inplace=True)\n",
    "df_train['Sign_up_Month'] = df_train['Sign_up_date'].dt.month\n",
    "df_train['Sign_up_Month'].fillna(df_train['Sign_up_Month'].median(), inplace=True)\n",
    "df_train['Sign_up_Day'] = df_train['Sign_up_date'].dt.day\n",
    "df_train['Sign_up_Day'].fillna(df_train['Sign_up_Day'].median(), inplace=True)\n",
    "df_train.drop(columns=['Sign_up_date'], inplace=True)"
   ]
  },
  {
   "cell_type": "code",
   "execution_count": 15,
   "id": "d2b3cb07",
   "metadata": {
    "ExecuteTime": {
     "end_time": "2022-04-13T09:07:30.188464Z",
     "start_time": "2022-04-13T09:07:30.160539Z"
    }
   },
   "outputs": [
    {
     "data": {
      "text/plain": [
       "CustomerID                  0\n",
       "Age                         0\n",
       "Gender                      0\n",
       "City                        0\n",
       "State                       0\n",
       "No_of_orders_placed         0\n",
       "Last_order_placed_date      0\n",
       "is_premium_member           0\n",
       "Women’s_Clothing            0\n",
       "Men’s_Clothing              0\n",
       "Kid’s_Clothing            935\n",
       "Home_&_Living             848\n",
       "Beauty                      0\n",
       "Electronics                 0\n",
       "Preferred_Theme             0\n",
       "Sign_up_Year                0\n",
       "Sign_up_Month               0\n",
       "Sign_up_Day                 0\n",
       "dtype: int64"
      ]
     },
     "execution_count": 15,
     "metadata": {},
     "output_type": "execute_result"
    }
   ],
   "source": [
    "df_train.isna().sum()"
   ]
  },
  {
   "cell_type": "markdown",
   "id": "e4567eaa",
   "metadata": {},
   "source": [
    "### Last order placed date"
   ]
  },
  {
   "cell_type": "code",
   "execution_count": 16,
   "id": "7eb26ce3",
   "metadata": {
    "ExecuteTime": {
     "end_time": "2022-04-13T09:07:30.236428Z",
     "start_time": "2022-04-13T09:07:30.192625Z"
    }
   },
   "outputs": [],
   "source": [
    "df_train['Last_order_placed_date'] = pd.DatetimeIndex(df_train['Last_order_placed_date'])\n",
    "df_train['Last_order_placed_Year'] = df_train['Last_order_placed_date'].dt.year\n",
    "df_train['Last_order_placed_Month'] = df_train['Last_order_placed_date'].dt.month\n",
    "df_train['Last_order_placed_Day'] = df_train['Last_order_placed_date'].dt.day\n",
    "df_train.drop(columns=['Last_order_placed_date'], inplace=True)"
   ]
  },
  {
   "cell_type": "markdown",
   "id": "2e5bc6ae",
   "metadata": {},
   "source": [
    "### Premium Member"
   ]
  },
  {
   "cell_type": "code",
   "execution_count": 17,
   "id": "21a6a009",
   "metadata": {
    "ExecuteTime": {
     "end_time": "2022-04-13T09:07:30.362997Z",
     "start_time": "2022-04-13T09:07:30.239329Z"
    }
   },
   "outputs": [
    {
     "data": {
      "image/png": "[encoded data removed]",
      "text/plain": [
       "<Figure size 360x216 with 1 Axes>"
      ]
     },
     "metadata": {
      "needs_background": "light"
     },
     "output_type": "display_data"
    }
   ],
   "source": [
    "# Show value counts for a Gender\n",
    "plt.figure(figsize=(5, 3))\n",
    "sns.countplot(x=df_train['is_premium_member']);"
   ]
  },
  {
   "cell_type": "markdown",
   "id": "92692a60",
   "metadata": {},
   "source": [
    "### Women's Clothing"
   ]
  },
  {
   "cell_type": "code",
   "execution_count": 18,
   "id": "13617f9b",
   "metadata": {
    "ExecuteTime": {
     "end_time": "2022-04-13T09:07:30.821734Z",
     "start_time": "2022-04-13T09:07:30.365990Z"
    }
   },
   "outputs": [
    {
     "data": {
      "image/png": "[encoded data removed]",
      "text/plain": [
       "<Figure size 432x288 with 1 Axes>"
      ]
     },
     "metadata": {
      "needs_background": "light"
     },
     "output_type": "display_data"
    }
   ],
   "source": [
    "sns.barplot(x=df_train['Gender'], y=df_train['Women’s_Clothing'], hue=df_train['is_premium_member']);"
   ]
  },
  {
   "cell_type": "markdown",
   "id": "d000705c",
   "metadata": {},
   "source": [
    "### Men's Clothing"
   ]
  },
  {
   "cell_type": "code",
   "execution_count": 19,
   "id": "9e2d5214",
   "metadata": {
    "ExecuteTime": {
     "end_time": "2022-04-13T09:07:31.342123Z",
     "start_time": "2022-04-13T09:07:30.824666Z"
    }
   },
   "outputs": [
    {
     "data": {
      "image/png": "[encoded data removed]",
      "text/plain": [
       "<Figure size 432x288 with 1 Axes>"
      ]
     },
     "metadata": {
      "needs_background": "light"
     },
     "output_type": "display_data"
    }
   ],
   "source": [
    "sns.barplot(x=df_train['Gender'], y=df_train['Men’s_Clothing'], hue=df_train['is_premium_member']);"
   ]
  },
  {
   "cell_type": "markdown",
   "id": "91e56f4c",
   "metadata": {},
   "source": [
    "### Kid's Clothing"
   ]
  },
  {
   "cell_type": "code",
   "execution_count": 20,
   "id": "2ec20e04",
   "metadata": {
    "ExecuteTime": {
     "end_time": "2022-04-13T09:07:31.813146Z",
     "start_time": "2022-04-13T09:07:31.346080Z"
    }
   },
   "outputs": [
    {
     "data": {
      "image/png": "[encoded data removed]",
      "text/plain": [
       "<Figure size 432x288 with 1 Axes>"
      ]
     },
     "metadata": {
      "needs_background": "light"
     },
     "output_type": "display_data"
    }
   ],
   "source": [
    "sns.barplot(x=df_train['Gender'], y=df_train['Kid’s_Clothing'], hue=df_train['is_premium_member']);"
   ]
  },
  {
   "cell_type": "code",
   "execution_count": 21,
   "id": "cc27c887",
   "metadata": {
    "ExecuteTime": {
     "end_time": "2022-04-13T09:07:31.828527Z",
     "start_time": "2022-04-13T09:07:31.815920Z"
    }
   },
   "outputs": [
    {
     "data": {
      "text/plain": [
       "count    14215.000000\n",
       "mean         4.573373\n",
       "std          2.628990\n",
       "min         -3.000000\n",
       "25%          2.602179\n",
       "50%          4.826021\n",
       "75%          6.482865\n",
       "max          9.997132\n",
       "Name: Kid’s_Clothing, dtype: float64"
      ]
     },
     "execution_count": 21,
     "metadata": {},
     "output_type": "execute_result"
    }
   ],
   "source": [
    "df_train['Kid’s_Clothing'].describe()"
   ]
  },
  {
   "cell_type": "code",
   "execution_count": 22,
   "id": "54fdaecd",
   "metadata": {
    "ExecuteTime": {
     "end_time": "2022-04-13T09:07:31.843846Z",
     "start_time": "2022-04-13T09:07:31.832874Z"
    }
   },
   "outputs": [
    {
     "data": {
      "text/plain": [
       "4.826021138935081"
      ]
     },
     "execution_count": 22,
     "metadata": {},
     "output_type": "execute_result"
    }
   ],
   "source": [
    "df_train['Kid’s_Clothing'].median()"
   ]
  },
  {
   "cell_type": "code",
   "execution_count": 23,
   "id": "7879bb08",
   "metadata": {
    "ExecuteTime": {
     "end_time": "2022-04-13T09:07:31.860134Z",
     "start_time": "2022-04-13T09:07:31.847289Z"
    }
   },
   "outputs": [],
   "source": [
    "df_train['Kid’s_Clothing'].fillna(value=df_train['Kid’s_Clothing'].median(), inplace=True)"
   ]
  },
  {
   "cell_type": "markdown",
   "id": "e66ed620",
   "metadata": {},
   "source": [
    "### Home & Living"
   ]
  },
  {
   "cell_type": "code",
   "execution_count": 24,
   "id": "9a0a2381",
   "metadata": {
    "ExecuteTime": {
     "end_time": "2022-04-13T09:07:32.319888Z",
     "start_time": "2022-04-13T09:07:31.864805Z"
    }
   },
   "outputs": [
    {
     "data": {
      "image/png": "[encoded data removed]",
      "text/plain": [
       "<Figure size 432x288 with 1 Axes>"
      ]
     },
     "metadata": {
      "needs_background": "light"
     },
     "output_type": "display_data"
    }
   ],
   "source": [
    "sns.barplot(x=df_train['Gender'], y=df_train['Home_&_Living'], hue=df_train['is_premium_member']);"
   ]
  },
  {
   "cell_type": "code",
   "execution_count": 25,
   "id": "dc22bdb2",
   "metadata": {
    "ExecuteTime": {
     "end_time": "2022-04-13T09:07:32.335778Z",
     "start_time": "2022-04-13T09:07:32.322920Z"
    }
   },
   "outputs": [
    {
     "data": {
      "text/plain": [
       "count    14302.000000\n",
       "mean         4.576805\n",
       "std          2.380538\n",
       "min         -2.000000\n",
       "25%          2.817589\n",
       "50%          4.338659\n",
       "75%          6.532475\n",
       "max          9.993163\n",
       "Name: Home_&_Living, dtype: float64"
      ]
     },
     "execution_count": 25,
     "metadata": {},
     "output_type": "execute_result"
    }
   ],
   "source": [
    "df_train['Home_&_Living'].describe()"
   ]
  },
  {
   "cell_type": "code",
   "execution_count": 26,
   "id": "5be08875",
   "metadata": {
    "ExecuteTime": {
     "end_time": "2022-04-13T09:07:32.351787Z",
     "start_time": "2022-04-13T09:07:32.338769Z"
    }
   },
   "outputs": [
    {
     "data": {
      "text/plain": [
       "4.338659052684153"
      ]
     },
     "execution_count": 26,
     "metadata": {},
     "output_type": "execute_result"
    }
   ],
   "source": [
    "df_train['Home_&_Living'].median()"
   ]
  },
  {
   "cell_type": "code",
   "execution_count": 27,
   "id": "f94ef0bb",
   "metadata": {
    "ExecuteTime": {
     "end_time": "2022-04-13T09:07:32.367784Z",
     "start_time": "2022-04-13T09:07:32.355412Z"
    }
   },
   "outputs": [],
   "source": [
    "df_train['Home_&_Living'].fillna(value=df_train['Home_&_Living'].median(), inplace=True)"
   ]
  },
  {
   "cell_type": "markdown",
   "id": "9071549f",
   "metadata": {},
   "source": [
    "### Beauty"
   ]
  },
  {
   "cell_type": "code",
   "execution_count": 28,
   "id": "0bba87ae",
   "metadata": {
    "ExecuteTime": {
     "end_time": "2022-04-13T09:07:32.826969Z",
     "start_time": "2022-04-13T09:07:32.372679Z"
    }
   },
   "outputs": [
    {
     "data": {
      "image/png": "[encoded data removed]",
      "text/plain": [
       "<Figure size 432x288 with 1 Axes>"
      ]
     },
     "metadata": {
      "needs_background": "light"
     },
     "output_type": "display_data"
    }
   ],
   "source": [
    "sns.barplot(x=df_train['Gender'], y=df_train['Beauty'], hue=df_train['is_premium_member']);"
   ]
  },
  {
   "cell_type": "markdown",
   "id": "c42af068",
   "metadata": {},
   "source": [
    "### Electronics"
   ]
  },
  {
   "cell_type": "code",
   "execution_count": 29,
   "id": "13c47776",
   "metadata": {
    "ExecuteTime": {
     "end_time": "2022-04-13T09:07:33.301610Z",
     "start_time": "2022-04-13T09:07:32.829755Z"
    }
   },
   "outputs": [
    {
     "data": {
      "image/png": "[encoded data removed]",
      "text/plain": [
       "<Figure size 432x288 with 1 Axes>"
      ]
     },
     "metadata": {
      "needs_background": "light"
     },
     "output_type": "display_data"
    }
   ],
   "source": [
    "sns.barplot(x=df_train['Gender'], y=df_train['Electronics'], hue=df_train['is_premium_member']);"
   ]
  },
  {
   "cell_type": "markdown",
   "id": "b918c4b6",
   "metadata": {},
   "source": [
    "### Preferred Theme"
   ]
  },
  {
   "cell_type": "code",
   "execution_count": 30,
   "id": "fbb2f487",
   "metadata": {
    "ExecuteTime": {
     "end_time": "2022-04-13T09:07:33.442852Z",
     "start_time": "2022-04-13T09:07:33.305270Z"
    }
   },
   "outputs": [
    {
     "data": {
      "image/png": "[encoded data removed]",
      "text/plain": [
       "<Figure size 432x288 with 1 Axes>"
      ]
     },
     "metadata": {
      "needs_background": "light"
     },
     "output_type": "display_data"
    }
   ],
   "source": [
    "sns.countplot(x=df_train['Gender'], hue=df_train['Preferred_Theme']);"
   ]
  },
  {
   "cell_type": "code",
   "execution_count": 31,
   "id": "46d3960b",
   "metadata": {
    "ExecuteTime": {
     "end_time": "2022-04-13T09:07:33.474048Z",
     "start_time": "2022-04-13T09:07:33.446001Z"
    }
   },
   "outputs": [
    {
     "name": "stdout",
     "output_type": "stream",
     "text": [
      "<class 'pandas.core.frame.DataFrame'>\n",
      "RangeIndex: 15150 entries, 0 to 15149\n",
      "Data columns (total 20 columns):\n",
      " #   Column                   Non-Null Count  Dtype  \n",
      "---  ------                   --------------  -----  \n",
      " 0   CustomerID               15150 non-null  object \n",
      " 1   Age                      15150 non-null  float64\n",
      " 2   Gender                   15150 non-null  object \n",
      " 3   City                     15150 non-null  object \n",
      " 4   State                    15150 non-null  object \n",
      " 5   No_of_orders_placed      15150 non-null  float64\n",
      " 6   is_premium_member        15150 non-null  int64  \n",
      " 7   Women’s_Clothing         15150 non-null  float64\n",
      " 8   Men’s_Clothing           15150 non-null  float64\n",
      " 9   Kid’s_Clothing           15150 non-null  float64\n",
      " 10  Home_&_Living            15150 non-null  float64\n",
      " 11  Beauty                   15150 non-null  float64\n",
      " 12  Electronics              15150 non-null  float64\n",
      " 13  Preferred_Theme          15150 non-null  object \n",
      " 14  Sign_up_Year             15150 non-null  float64\n",
      " 15  Sign_up_Month            15150 non-null  float64\n",
      " 16  Sign_up_Day              15150 non-null  float64\n",
      " 17  Last_order_placed_Year   15150 non-null  int64  \n",
      " 18  Last_order_placed_Month  15150 non-null  int64  \n",
      " 19  Last_order_placed_Day    15150 non-null  int64  \n",
      "dtypes: float64(11), int64(4), object(5)\n",
      "memory usage: 2.3+ MB\n"
     ]
    }
   ],
   "source": [
    "df_train.info()"
   ]
  },
  {
   "cell_type": "code",
   "execution_count": null,
   "id": "cc7a979e",
   "metadata": {},
   "outputs": [],
   "source": []
  },
  {
   "cell_type": "markdown",
   "id": "220456c4",
   "metadata": {},
   "source": [
    "### Convert all data in numeric format"
   ]
  },
  {
   "cell_type": "code",
   "execution_count": 32,
   "id": "9ed46b17",
   "metadata": {
    "ExecuteTime": {
     "end_time": "2022-04-13T09:07:33.616014Z",
     "start_time": "2022-04-13T09:07:33.476810Z"
    }
   },
   "outputs": [],
   "source": [
    "from sklearn.preprocessing import LabelEncoder"
   ]
  },
  {
   "cell_type": "code",
   "execution_count": 33,
   "id": "f61d2f64",
   "metadata": {
    "ExecuteTime": {
     "end_time": "2022-04-13T09:07:33.648014Z",
     "start_time": "2022-04-13T09:07:33.618017Z"
    }
   },
   "outputs": [
    {
     "name": "stdout",
     "output_type": "stream",
     "text": [
      "<class 'pandas.core.frame.DataFrame'>\n",
      "RangeIndex: 15150 entries, 0 to 15149\n",
      "Data columns (total 20 columns):\n",
      " #   Column                   Non-Null Count  Dtype  \n",
      "---  ------                   --------------  -----  \n",
      " 0   CustomerID               15150 non-null  object \n",
      " 1   Age                      15150 non-null  float64\n",
      " 2   Gender                   15150 non-null  object \n",
      " 3   City                     15150 non-null  object \n",
      " 4   State                    15150 non-null  object \n",
      " 5   No_of_orders_placed      15150 non-null  float64\n",
      " 6   is_premium_member        15150 non-null  int64  \n",
      " 7   Women’s_Clothing         15150 non-null  float64\n",
      " 8   Men’s_Clothing           15150 non-null  float64\n",
      " 9   Kid’s_Clothing           15150 non-null  float64\n",
      " 10  Home_&_Living            15150 non-null  float64\n",
      " 11  Beauty                   15150 non-null  float64\n",
      " 12  Electronics              15150 non-null  float64\n",
      " 13  Preferred_Theme          15150 non-null  object \n",
      " 14  Sign_up_Year             15150 non-null  float64\n",
      " 15  Sign_up_Month            15150 non-null  float64\n",
      " 16  Sign_up_Day              15150 non-null  float64\n",
      " 17  Last_order_placed_Year   15150 non-null  int64  \n",
      " 18  Last_order_placed_Month  15150 non-null  int64  \n",
      " 19  Last_order_placed_Day    15150 non-null  int64  \n",
      "dtypes: float64(11), int64(4), object(5)\n",
      "memory usage: 2.3+ MB\n"
     ]
    }
   ],
   "source": [
    "df_train.info()"
   ]
  },
  {
   "cell_type": "code",
   "execution_count": 34,
   "id": "891803ab",
   "metadata": {
    "ExecuteTime": {
     "end_time": "2022-04-13T09:07:33.663956Z",
     "start_time": "2022-04-13T09:07:33.650972Z"
    }
   },
   "outputs": [],
   "source": [
    "def convert_all_data_in_numeric(dataset):\n",
    "    labeled_data = {}\n",
    "    col_num = {}\n",
    "    new_data = {}\n",
    "    for colNo, column in enumerate(dataset.columns):\n",
    "        if dataset[column].dtype == 'O':\n",
    "            col_num[column] = colNo\n",
    "            labeled_data[column] = LabelEncoder().fit(dataset[column])\n",
    "        else:\n",
    "            new_data[column] = list(dataset[column])\n",
    "    new_data = pd.DataFrame(new_data)    \n",
    "    for key, value in labeled_data.items():\n",
    "        z = value.transform(dataset[key])\n",
    "        new_data.insert(int(col_num[key]), key, z, True)\n",
    "    return labeled_data, new_data            "
   ]
  },
  {
   "cell_type": "code",
   "execution_count": 35,
   "id": "4f6b648c",
   "metadata": {
    "ExecuteTime": {
     "end_time": "2022-04-13T09:07:33.774853Z",
     "start_time": "2022-04-13T09:07:33.667211Z"
    }
   },
   "outputs": [],
   "source": [
    "labeled, df_temp = convert_all_data_in_numeric(df_train)"
   ]
  },
  {
   "cell_type": "code",
   "execution_count": 36,
   "id": "08849ed4",
   "metadata": {
    "ExecuteTime": {
     "end_time": "2022-04-13T09:07:33.822637Z",
     "start_time": "2022-04-13T09:07:33.778036Z"
    }
   },
   "outputs": [
    {
     "data": {
      "text/html": [
       "<div>\n",
       "<style scoped>\n",
       "    .dataframe tbody tr th:only-of-type {\n",
       "        vertical-align: middle;\n",
       "    }\n",
       "\n",
       "    .dataframe tbody tr th {\n",
       "        vertical-align: top;\n",
       "    }\n",
       "\n",
       "    .dataframe thead th {\n",
       "        text-align: right;\n",
       "    }\n",
       "</style>\n",
       "<table border=\"1\" class=\"dataframe\">\n",
       "  <thead>\n",
       "    <tr style=\"text-align: right;\">\n",
       "      <th></th>\n",
       "      <th>CustomerID</th>\n",
       "      <th>Age</th>\n",
       "      <th>Gender</th>\n",
       "      <th>City</th>\n",
       "      <th>State</th>\n",
       "      <th>No_of_orders_placed</th>\n",
       "      <th>is_premium_member</th>\n",
       "      <th>Women’s_Clothing</th>\n",
       "      <th>Men’s_Clothing</th>\n",
       "      <th>Kid’s_Clothing</th>\n",
       "      <th>Home_&amp;_Living</th>\n",
       "      <th>Beauty</th>\n",
       "      <th>Electronics</th>\n",
       "      <th>Preferred_Theme</th>\n",
       "      <th>Sign_up_Year</th>\n",
       "      <th>Sign_up_Month</th>\n",
       "      <th>Sign_up_Day</th>\n",
       "      <th>Last_order_placed_Year</th>\n",
       "      <th>Last_order_placed_Month</th>\n",
       "      <th>Last_order_placed_Day</th>\n",
       "    </tr>\n",
       "  </thead>\n",
       "  <tbody>\n",
       "    <tr>\n",
       "      <th>0</th>\n",
       "      <td>102</td>\n",
       "      <td>22.0</td>\n",
       "      <td>1</td>\n",
       "      <td>21</td>\n",
       "      <td>2</td>\n",
       "      <td>4.0</td>\n",
       "      <td>0</td>\n",
       "      <td>2.945701</td>\n",
       "      <td>8.924431</td>\n",
       "      <td>2.000000</td>\n",
       "      <td>2.325376</td>\n",
       "      <td>1.924891</td>\n",
       "      <td>9.820254</td>\n",
       "      <td>0</td>\n",
       "      <td>2017.0</td>\n",
       "      <td>6.0</td>\n",
       "      <td>23.0</td>\n",
       "      <td>2021</td>\n",
       "      <td>4</td>\n",
       "      <td>1</td>\n",
       "    </tr>\n",
       "    <tr>\n",
       "      <th>1</th>\n",
       "      <td>743</td>\n",
       "      <td>29.0</td>\n",
       "      <td>0</td>\n",
       "      <td>2</td>\n",
       "      <td>5</td>\n",
       "      <td>9.0</td>\n",
       "      <td>0</td>\n",
       "      <td>6.115229</td>\n",
       "      <td>2.363926</td>\n",
       "      <td>6.968752</td>\n",
       "      <td>7.355854</td>\n",
       "      <td>8.561461</td>\n",
       "      <td>2.162229</td>\n",
       "      <td>1</td>\n",
       "      <td>2018.0</td>\n",
       "      <td>5.0</td>\n",
       "      <td>21.0</td>\n",
       "      <td>2020</td>\n",
       "      <td>1</td>\n",
       "      <td>26</td>\n",
       "    </tr>\n",
       "    <tr>\n",
       "      <th>2</th>\n",
       "      <td>1335</td>\n",
       "      <td>26.0</td>\n",
       "      <td>1</td>\n",
       "      <td>10</td>\n",
       "      <td>8</td>\n",
       "      <td>0.0</td>\n",
       "      <td>0</td>\n",
       "      <td>1.000000</td>\n",
       "      <td>3.000000</td>\n",
       "      <td>1.766530</td>\n",
       "      <td>3.471802</td>\n",
       "      <td>0.808147</td>\n",
       "      <td>9.055563</td>\n",
       "      <td>0</td>\n",
       "      <td>2019.0</td>\n",
       "      <td>2.0</td>\n",
       "      <td>15.0</td>\n",
       "      <td>2020</td>\n",
       "      <td>11</td>\n",
       "      <td>28</td>\n",
       "    </tr>\n",
       "    <tr>\n",
       "      <th>3</th>\n",
       "      <td>5083</td>\n",
       "      <td>29.0</td>\n",
       "      <td>1</td>\n",
       "      <td>16</td>\n",
       "      <td>3</td>\n",
       "      <td>7.0</td>\n",
       "      <td>0</td>\n",
       "      <td>2.116475</td>\n",
       "      <td>9.064060</td>\n",
       "      <td>5.387599</td>\n",
       "      <td>4.338659</td>\n",
       "      <td>0.459090</td>\n",
       "      <td>7.343461</td>\n",
       "      <td>0</td>\n",
       "      <td>2019.0</td>\n",
       "      <td>7.0</td>\n",
       "      <td>18.0</td>\n",
       "      <td>2020</td>\n",
       "      <td>11</td>\n",
       "      <td>16</td>\n",
       "    </tr>\n",
       "    <tr>\n",
       "      <th>4</th>\n",
       "      <td>3468</td>\n",
       "      <td>29.0</td>\n",
       "      <td>0</td>\n",
       "      <td>19</td>\n",
       "      <td>14</td>\n",
       "      <td>0.0</td>\n",
       "      <td>0</td>\n",
       "      <td>7.352878</td>\n",
       "      <td>1.995744</td>\n",
       "      <td>2.676853</td>\n",
       "      <td>7.159554</td>\n",
       "      <td>8.184695</td>\n",
       "      <td>2.000000</td>\n",
       "      <td>1</td>\n",
       "      <td>2018.0</td>\n",
       "      <td>2.0</td>\n",
       "      <td>5.0</td>\n",
       "      <td>2020</td>\n",
       "      <td>3</td>\n",
       "      <td>12</td>\n",
       "    </tr>\n",
       "    <tr>\n",
       "      <th>...</th>\n",
       "      <td>...</td>\n",
       "      <td>...</td>\n",
       "      <td>...</td>\n",
       "      <td>...</td>\n",
       "      <td>...</td>\n",
       "      <td>...</td>\n",
       "      <td>...</td>\n",
       "      <td>...</td>\n",
       "      <td>...</td>\n",
       "      <td>...</td>\n",
       "      <td>...</td>\n",
       "      <td>...</td>\n",
       "      <td>...</td>\n",
       "      <td>...</td>\n",
       "      <td>...</td>\n",
       "      <td>...</td>\n",
       "      <td>...</td>\n",
       "      <td>...</td>\n",
       "      <td>...</td>\n",
       "      <td>...</td>\n",
       "    </tr>\n",
       "    <tr>\n",
       "      <th>15145</th>\n",
       "      <td>1508</td>\n",
       "      <td>28.0</td>\n",
       "      <td>2</td>\n",
       "      <td>6</td>\n",
       "      <td>10</td>\n",
       "      <td>6.0</td>\n",
       "      <td>0</td>\n",
       "      <td>1.074235</td>\n",
       "      <td>3.328216</td>\n",
       "      <td>9.075440</td>\n",
       "      <td>5.929733</td>\n",
       "      <td>2.081818</td>\n",
       "      <td>4.225626</td>\n",
       "      <td>1</td>\n",
       "      <td>2017.0</td>\n",
       "      <td>11.0</td>\n",
       "      <td>18.0</td>\n",
       "      <td>2020</td>\n",
       "      <td>7</td>\n",
       "      <td>24</td>\n",
       "    </tr>\n",
       "    <tr>\n",
       "      <th>15146</th>\n",
       "      <td>6931</td>\n",
       "      <td>25.0</td>\n",
       "      <td>1</td>\n",
       "      <td>18</td>\n",
       "      <td>10</td>\n",
       "      <td>8.0</td>\n",
       "      <td>0</td>\n",
       "      <td>0.604496</td>\n",
       "      <td>6.349027</td>\n",
       "      <td>0.413908</td>\n",
       "      <td>4.159025</td>\n",
       "      <td>1.214793</td>\n",
       "      <td>8.482181</td>\n",
       "      <td>0</td>\n",
       "      <td>2017.0</td>\n",
       "      <td>9.0</td>\n",
       "      <td>26.0</td>\n",
       "      <td>2020</td>\n",
       "      <td>3</td>\n",
       "      <td>11</td>\n",
       "    </tr>\n",
       "    <tr>\n",
       "      <th>15147</th>\n",
       "      <td>1353</td>\n",
       "      <td>32.0</td>\n",
       "      <td>0</td>\n",
       "      <td>16</td>\n",
       "      <td>13</td>\n",
       "      <td>7.0</td>\n",
       "      <td>1</td>\n",
       "      <td>3.812781</td>\n",
       "      <td>2.869684</td>\n",
       "      <td>6.213548</td>\n",
       "      <td>4.338659</td>\n",
       "      <td>7.477459</td>\n",
       "      <td>2.861971</td>\n",
       "      <td>1</td>\n",
       "      <td>2018.0</td>\n",
       "      <td>6.0</td>\n",
       "      <td>9.0</td>\n",
       "      <td>2021</td>\n",
       "      <td>4</td>\n",
       "      <td>5</td>\n",
       "    </tr>\n",
       "    <tr>\n",
       "      <th>15148</th>\n",
       "      <td>7354</td>\n",
       "      <td>32.0</td>\n",
       "      <td>0</td>\n",
       "      <td>18</td>\n",
       "      <td>9</td>\n",
       "      <td>10.0</td>\n",
       "      <td>0</td>\n",
       "      <td>4.607484</td>\n",
       "      <td>1.370857</td>\n",
       "      <td>6.108666</td>\n",
       "      <td>7.324654</td>\n",
       "      <td>7.748538</td>\n",
       "      <td>5.009866</td>\n",
       "      <td>0</td>\n",
       "      <td>2016.0</td>\n",
       "      <td>1.0</td>\n",
       "      <td>23.0</td>\n",
       "      <td>2020</td>\n",
       "      <td>8</td>\n",
       "      <td>23</td>\n",
       "    </tr>\n",
       "    <tr>\n",
       "      <th>15149</th>\n",
       "      <td>1807</td>\n",
       "      <td>22.0</td>\n",
       "      <td>2</td>\n",
       "      <td>1</td>\n",
       "      <td>1</td>\n",
       "      <td>1.0</td>\n",
       "      <td>1</td>\n",
       "      <td>4.232741</td>\n",
       "      <td>2.020077</td>\n",
       "      <td>5.651068</td>\n",
       "      <td>3.103405</td>\n",
       "      <td>4.312872</td>\n",
       "      <td>2.728655</td>\n",
       "      <td>1</td>\n",
       "      <td>2019.0</td>\n",
       "      <td>2.0</td>\n",
       "      <td>19.0</td>\n",
       "      <td>2020</td>\n",
       "      <td>1</td>\n",
       "      <td>15</td>\n",
       "    </tr>\n",
       "  </tbody>\n",
       "</table>\n",
       "<p>15150 rows × 20 columns</p>\n",
       "</div>"
      ],
      "text/plain": [
       "       CustomerID   Age  Gender  City  State  No_of_orders_placed  \\\n",
       "0             102  22.0       1    21      2                  4.0   \n",
       "1             743  29.0       0     2      5                  9.0   \n",
       "2            1335  26.0       1    10      8                  0.0   \n",
       "3            5083  29.0       1    16      3                  7.0   \n",
       "4            3468  29.0       0    19     14                  0.0   \n",
       "...           ...   ...     ...   ...    ...                  ...   \n",
       "15145        1508  28.0       2     6     10                  6.0   \n",
       "15146        6931  25.0       1    18     10                  8.0   \n",
       "15147        1353  32.0       0    16     13                  7.0   \n",
       "15148        7354  32.0       0    18      9                 10.0   \n",
       "15149        1807  22.0       2     1      1                  1.0   \n",
       "\n",
       "       is_premium_member  Women’s_Clothing  Men’s_Clothing  Kid’s_Clothing  \\\n",
       "0                      0          2.945701        8.924431        2.000000   \n",
       "1                      0          6.115229        2.363926        6.968752   \n",
       "2                      0          1.000000        3.000000        1.766530   \n",
       "3                      0          2.116475        9.064060        5.387599   \n",
       "4                      0          7.352878        1.995744        2.676853   \n",
       "...                  ...               ...             ...             ...   \n",
       "15145                  0          1.074235        3.328216        9.075440   \n",
       "15146                  0          0.604496        6.349027        0.413908   \n",
       "15147                  1          3.812781        2.869684        6.213548   \n",
       "15148                  0          4.607484        1.370857        6.108666   \n",
       "15149                  1          4.232741        2.020077        5.651068   \n",
       "\n",
       "       Home_&_Living    Beauty  Electronics  Preferred_Theme  Sign_up_Year  \\\n",
       "0           2.325376  1.924891     9.820254                0        2017.0   \n",
       "1           7.355854  8.561461     2.162229                1        2018.0   \n",
       "2           3.471802  0.808147     9.055563                0        2019.0   \n",
       "3           4.338659  0.459090     7.343461                0        2019.0   \n",
       "4           7.159554  8.184695     2.000000                1        2018.0   \n",
       "...              ...       ...          ...              ...           ...   \n",
       "15145       5.929733  2.081818     4.225626                1        2017.0   \n",
       "15146       4.159025  1.214793     8.482181                0        2017.0   \n",
       "15147       4.338659  7.477459     2.861971                1        2018.0   \n",
       "15148       7.324654  7.748538     5.009866                0        2016.0   \n",
       "15149       3.103405  4.312872     2.728655                1        2019.0   \n",
       "\n",
       "       Sign_up_Month  Sign_up_Day  Last_order_placed_Year  \\\n",
       "0                6.0         23.0                    2021   \n",
       "1                5.0         21.0                    2020   \n",
       "2                2.0         15.0                    2020   \n",
       "3                7.0         18.0                    2020   \n",
       "4                2.0          5.0                    2020   \n",
       "...              ...          ...                     ...   \n",
       "15145           11.0         18.0                    2020   \n",
       "15146            9.0         26.0                    2020   \n",
       "15147            6.0          9.0                    2021   \n",
       "15148            1.0         23.0                    2020   \n",
       "15149            2.0         19.0                    2020   \n",
       "\n",
       "       Last_order_placed_Month  Last_order_placed_Day  \n",
       "0                            4                      1  \n",
       "1                            1                     26  \n",
       "2                           11                     28  \n",
       "3                           11                     16  \n",
       "4                            3                     12  \n",
       "...                        ...                    ...  \n",
       "15145                        7                     24  \n",
       "15146                        3                     11  \n",
       "15147                        4                      5  \n",
       "15148                        8                     23  \n",
       "15149                        1                     15  \n",
       "\n",
       "[15150 rows x 20 columns]"
      ]
     },
     "execution_count": 36,
     "metadata": {},
     "output_type": "execute_result"
    }
   ],
   "source": [
    "df_temp"
   ]
  },
  {
   "cell_type": "code",
   "execution_count": 41,
   "id": "c9499e1b",
   "metadata": {
    "ExecuteTime": {
     "end_time": "2022-04-13T09:12:06.933845Z",
     "start_time": "2022-04-13T09:12:05.233935Z"
    }
   },
   "outputs": [
    {
     "data": {
      "text/plain": [
       "<AxesSubplot:>"
      ]
     },
     "execution_count": 41,
     "metadata": {},
     "output_type": "execute_result"
    },
    {
     "data": {
      "image/png": "[encoded data removed]",
      "text/plain": [
       "<Figure size 1080x720 with 2 Axes>"
      ]
     },
     "metadata": {
      "needs_background": "light"
     },
     "output_type": "display_data"
    }
   ],
   "source": [
    "plt.figure(figsize=(15, 10))\n",
    "sns.heatmap(data=df_temp.corr(), annot=True, fmt='.2f', cmap='YlOrRd', linewidths=0.5)"
   ]
  },
  {
   "cell_type": "markdown",
   "id": "1ccd3301",
   "metadata": {},
   "source": [
    "### Split data into features and target columns"
   ]
  },
  {
   "cell_type": "code",
   "execution_count": 37,
   "id": "954c596c",
   "metadata": {
    "ExecuteTime": {
     "end_time": "2022-04-13T09:07:33.886505Z",
     "start_time": "2022-04-13T09:07:33.825630Z"
    }
   },
   "outputs": [
    {
     "data": {
      "text/plain": [
       "((13635, 19), (1515, 19), (13635,), (1515,))"
      ]
     },
     "execution_count": 37,
     "metadata": {},
     "output_type": "execute_result"
    }
   ],
   "source": [
    "from sklearn.model_selection import train_test_split\n",
    "\n",
    "x = df_temp.drop(columns='Preferred_Theme')\n",
    "y = df_temp['Preferred_Theme']\n",
    "\n",
    "x_train, x_test, y_train, y_test = train_test_split(x, y, test_size=0.1, random_state=42, shuffle=False)\n",
    "\n",
    "x_train.shape, x_test.shape, y_train.shape, y_test.shape"
   ]
  },
  {
   "cell_type": "markdown",
   "id": "11bbfae7",
   "metadata": {},
   "source": [
    "> Note: Target column(data) is categorical data that is why we use `LogicSticRegression`, `RandomForestClassifier`, `KNNclassifier`, `GradientBoostClassifier`, `XGBoostClassifier`."
   ]
  },
  {
   "cell_type": "code",
   "execution_count": 38,
   "id": "069f1297",
   "metadata": {
    "ExecuteTime": {
     "end_time": "2022-04-13T09:07:34.361422Z",
     "start_time": "2022-04-13T09:07:33.889458Z"
    }
   },
   "outputs": [
    {
     "name": "stderr",
     "output_type": "stream",
     "text": [
      "C:\\Users\\home_\\AppData\\Roaming\\Python\\Python39\\site-packages\\pkg_resources\\__init__.py:116: PkgResourcesDeprecationWarning: a45ec3b71d3620b21cd8ae9c8cd0510ddb4a5c8f- is an invalid version and will not be supported in a future release\n",
      "  warnings.warn(\n"
     ]
    }
   ],
   "source": [
    "from sklearn.linear_model import LogisticRegression\n",
    "from sklearn.ensemble import RandomForestClassifier, GradientBoostingClassifier\n",
    "from sklearn.neighbors import KNeighborsClassifier\n",
    "from xgboost import XGBClassifier"
   ]
  },
  {
   "cell_type": "code",
   "execution_count": 39,
   "id": "6f3bf117",
   "metadata": {
    "ExecuteTime": {
     "end_time": "2022-04-13T09:07:34.377309Z",
     "start_time": "2022-04-13T09:07:34.371753Z"
    }
   },
   "outputs": [],
   "source": [
    "def model_run(x_train=x_train, y_train=y_train, x_test=x_test, y_test=y_test):\n",
    "    \n",
    "    models_reg = {'LogisticRegression' : LogisticRegression(),\n",
    "                  'RandomForestClassifier' : RandomForestClassifier(),\n",
    "                  'GradientBoostingClassifier' : GradientBoostingClassifier(),\n",
    "                  'KNeighborsClassifier' : KNeighborsClassifier(),\n",
    "                  'XGBClassifier' : XGBClassifier()}\n",
    "    score = {}\n",
    "    \n",
    "    for model_name, model in models_reg.items():\n",
    "        # Fit the model\n",
    "        model.fit(x_train, y_train)\n",
    "        # Check score\n",
    "        score[model_name] = model.score(x_test, y_test)\n",
    "    \n",
    "    return score"
   ]
  },
  {
   "cell_type": "code",
   "execution_count": 40,
   "id": "1e89f53d",
   "metadata": {
    "ExecuteTime": {
     "end_time": "2022-04-13T09:07:50.663973Z",
     "start_time": "2022-04-13T09:07:34.384253Z"
    }
   },
   "outputs": [
    {
     "name": "stderr",
     "output_type": "stream",
     "text": [
      "c:\\program files\\python39\\lib\\site-packages\\sklearn\\linear_model\\_logistic.py:814: ConvergenceWarning: lbfgs failed to converge (status=1):\n",
      "STOP: TOTAL NO. of ITERATIONS REACHED LIMIT.\n",
      "\n",
      "Increase the number of iterations (max_iter) or scale the data as shown in:\n",
      "    https://scikit-learn.org/stable/modules/preprocessing.html\n",
      "Please also refer to the documentation for alternative solver options:\n",
      "    https://scikit-learn.org/stable/modules/linear_model.html#logistic-regression\n",
      "  n_iter_i = _check_optimize_result(\n",
      "C:\\Users\\home_\\AppData\\Roaming\\Python\\Python39\\site-packages\\xgboost\\sklearn.py:1224: UserWarning: The use of label encoder in XGBClassifier is deprecated and will be removed in a future release. To remove this warning, do the following: 1) Pass option use_label_encoder=False when constructing XGBClassifier object; and 2) Encode your labels (y) as integers starting with 0, i.e. 0, 1, 2, ..., [num_class - 1].\n",
      "  warnings.warn(label_encoder_deprecation_msg, UserWarning)\n"
     ]
    },
    {
     "name": "stdout",
     "output_type": "stream",
     "text": [
      "[14:37:48] WARNING: C:/Users/Administrator/workspace/xgboost-win64_release_1.5.1/src/learner.cc:1115: Starting in XGBoost 1.3.0, the default evaluation metric used with the objective 'binary:logistic' was changed from 'error' to 'logloss'. Explicitly set eval_metric if you'd like to restore the old behavior.\n"
     ]
    },
    {
     "data": {
      "text/plain": [
       "{'LogisticRegression': 0.6726072607260726,\n",
       " 'RandomForestClassifier': 0.6897689768976898,\n",
       " 'GradientBoostingClassifier': 0.6871287128712872,\n",
       " 'KNeighborsClassifier': 0.5498349834983498,\n",
       " 'XGBClassifier': 0.6778877887788779}"
      ]
     },
     "execution_count": 40,
     "metadata": {},
     "output_type": "execute_result"
    }
   ],
   "source": [
    "model_run()"
   ]
  },
  {
   "cell_type": "markdown",
   "id": "05b4a48e",
   "metadata": {},
   "source": [
    "### HyperParameters Tuning (by hand)"
   ]
  },
  {
   "cell_type": "code",
   "execution_count": 42,
   "id": "bb0b659b",
   "metadata": {
    "ExecuteTime": {
     "end_time": "2022-04-13T09:19:36.175054Z",
     "start_time": "2022-04-13T09:17:50.308484Z"
    }
   },
   "outputs": [],
   "source": [
    "# KNN tune\n",
    "train_score = []\n",
    "test_score = []\n",
    "\n",
    "# Create a list of different values for K-Neighbors\n",
    "neighbors = range(1, 21)\n",
    "\n",
    "# Setup KNN instant\n",
    "knn = KNeighborsClassifier()\n",
    "\n",
    "# Loop through different n_neighbors\n",
    "for i in neighbors:\n",
    "    knn.set_params(n_neighbors=i)\n",
    "    \n",
    "    # Fit the algorithm\n",
    "    knn.fit(x_train, y_train)\n",
    "    \n",
    "    # update training score list\n",
    "    train_score.append(knn.score(x_train, y_train))\n",
    "    \n",
    "    # update test score list\n",
    "    test_score.append(knn.score(x_test, y_test))"
   ]
  },
  {
   "cell_type": "code",
   "execution_count": 43,
   "id": "58521cf1",
   "metadata": {
    "ExecuteTime": {
     "end_time": "2022-04-13T09:19:37.260799Z",
     "start_time": "2022-04-13T09:19:37.248824Z"
    }
   },
   "outputs": [
    {
     "data": {
      "text/plain": [
       "[1.0,\n",
       " 0.7608360836083609,\n",
       " 0.7765309864319765,\n",
       " 0.7148514851485148,\n",
       " 0.7220388705537221,\n",
       " 0.6832416574990833,\n",
       " 0.6906490649064907,\n",
       " 0.6683535020168684,\n",
       " 0.6784745141180785,\n",
       " 0.6563256325632564,\n",
       " 0.6643931059772644,\n",
       " 0.6478181151448478,\n",
       " 0.651925192519252,\n",
       " 0.6385038503850385,\n",
       " 0.6454712137880455,\n",
       " 0.635936927026036,\n",
       " 0.6380638063806381,\n",
       " 0.6316098276494316,\n",
       " 0.6381371470480381,\n",
       " 0.6247158049138247]"
      ]
     },
     "execution_count": 43,
     "metadata": {},
     "output_type": "execute_result"
    }
   ],
   "source": [
    "train_score"
   ]
  },
  {
   "cell_type": "code",
   "execution_count": 44,
   "id": "d8752a05",
   "metadata": {
    "ExecuteTime": {
     "end_time": "2022-04-13T09:19:38.473381Z",
     "start_time": "2022-04-13T09:19:38.461391Z"
    }
   },
   "outputs": [
    {
     "data": {
      "text/plain": [
       "[0.532013201320132,\n",
       " 0.5227722772277228,\n",
       " 0.5405940594059406,\n",
       " 0.5227722772277228,\n",
       " 0.5498349834983498,\n",
       " 0.5366336633663367,\n",
       " 0.5524752475247525,\n",
       " 0.5379537953795379,\n",
       " 0.5511551155115512,\n",
       " 0.5452145214521452,\n",
       " 0.5491749174917492,\n",
       " 0.5386138613861386,\n",
       " 0.5458745874587458,\n",
       " 0.5386138613861386,\n",
       " 0.5458745874587458,\n",
       " 0.5419141914191419,\n",
       " 0.5458745874587458,\n",
       " 0.5432343234323432,\n",
       " 0.5537953795379538,\n",
       " 0.5425742574257426]"
      ]
     },
     "execution_count": 44,
     "metadata": {},
     "output_type": "execute_result"
    }
   ],
   "source": [
    "test_score"
   ]
  },
  {
   "cell_type": "code",
   "execution_count": 45,
   "id": "f0beed73",
   "metadata": {
    "ExecuteTime": {
     "end_time": "2022-04-13T09:19:39.793445Z",
     "start_time": "2022-04-13T09:19:39.551110Z"
    }
   },
   "outputs": [
    {
     "name": "stdout",
     "output_type": "stream",
     "text": [
      "Maximum KNN Score on the test data:55.38%\n"
     ]
    },
    {
     "data": {
      "image/png": "[encoded data removed]",
      "text/plain": [
       "<Figure size 1080x576 with 1 Axes>"
      ]
     },
     "metadata": {
      "needs_background": "light"
     },
     "output_type": "display_data"
    }
   ],
   "source": [
    "plt.figure(figsize=(15, 8))\n",
    "\n",
    "sns.lineplot(x=neighbors, y=train_score)\n",
    "sns.lineplot(x=neighbors, y=test_score)\n",
    "plt.xticks(np.arange(1,21))\n",
    "plt.xlabel('Different values of Neighbors')\n",
    "plt.ylabel('Model Score')\n",
    "plt.legend(['train_score', 'test_score'])\n",
    "\n",
    "print(f'Maximum KNN Score on the test data:{max(test_score)*100:.2f}%')"
   ]
  },
  {
   "cell_type": "markdown",
   "id": "8fe54602",
   "metadata": {},
   "source": [
    "### Hyperparameter tunning with RandomizedSearchCV\n",
    "#### Now tunning following:\n",
    "\n",
    "Logistic Regression()\n",
    "Random Forest Classifier()\n",
    "... using RandomizedSearchCV"
   ]
  },
  {
   "cell_type": "code",
   "execution_count": 46,
   "id": "c72be3cb",
   "metadata": {
    "ExecuteTime": {
     "end_time": "2022-04-13T09:21:12.690354Z",
     "start_time": "2022-04-13T09:21:12.676332Z"
    }
   },
   "outputs": [],
   "source": [
    "# Create a hyperparameter grid for Logistic Regression\n",
    "log_reg_grid = {'C': np.logspace(-4, 4, 20),\n",
    "                'solver': ['liblinear']}\n",
    "\n",
    "# Create a hyperparameter grid for RandomForestClassifier\n",
    "rf_grid = {'n_estimators': np.arange(10, 1000, 50),\n",
    "           'max_depth': [None, 3, 5, 10],\n",
    "           'min_samples_split': np.arange(2, 20, 2),\n",
    "           'min_samples_leaf': np.arange(1, 20, 2)}"
   ]
  },
  {
   "cell_type": "code",
   "execution_count": 49,
   "id": "cce2426f",
   "metadata": {
    "ExecuteTime": {
     "end_time": "2022-04-13T09:22:40.196209Z",
     "start_time": "2022-04-13T09:22:21.762015Z"
    }
   },
   "outputs": [
    {
     "name": "stdout",
     "output_type": "stream",
     "text": [
      "Fitting 5 folds for each of 20 candidates, totalling 100 fits\n"
     ]
    },
    {
     "data": {
      "text/plain": [
       "RandomizedSearchCV(cv=5, estimator=LogisticRegression(), n_iter=20,\n",
       "                   param_distributions={'C': array([1.00000000e-04, 2.63665090e-04, 6.95192796e-04, 1.83298071e-03,\n",
       "       4.83293024e-03, 1.27427499e-02, 3.35981829e-02, 8.85866790e-02,\n",
       "       2.33572147e-01, 6.15848211e-01, 1.62377674e+00, 4.28133240e+00,\n",
       "       1.12883789e+01, 2.97635144e+01, 7.84759970e+01, 2.06913808e+02,\n",
       "       5.45559478e+02, 1.43844989e+03, 3.79269019e+03, 1.00000000e+04]),\n",
       "                                        'solver': ['liblinear']},\n",
       "                   random_state=42, verbose=True)"
      ]
     },
     "execution_count": 49,
     "metadata": {},
     "output_type": "execute_result"
    }
   ],
   "source": [
    "# setup random hyperparameter search for LogisticRegression\n",
    "from sklearn.model_selection import RandomizedSearchCV\n",
    "rs_log_reg = RandomizedSearchCV(LogisticRegression(),\n",
    "                                param_distributions=log_reg_grid,\n",
    "                                cv=5,\n",
    "                                n_iter=20,\n",
    "                                verbose=True, \n",
    "                                random_state=42)\n",
    "\n",
    "# fit random hyperparameter search model for LogisticRegression\n",
    "rs_log_reg.fit(x_train, y_train)"
   ]
  },
  {
   "cell_type": "code",
   "execution_count": 50,
   "id": "6fde8412",
   "metadata": {
    "ExecuteTime": {
     "end_time": "2022-04-13T09:22:45.990054Z",
     "start_time": "2022-04-13T09:22:45.969072Z"
    }
   },
   "outputs": [
    {
     "data": {
      "text/plain": [
       "{'solver': 'liblinear', 'C': 0.03359818286283781}"
      ]
     },
     "execution_count": 50,
     "metadata": {},
     "output_type": "execute_result"
    }
   ],
   "source": [
    "# Find the best hyperparameters\n",
    "rs_log_reg.best_params_"
   ]
  },
  {
   "cell_type": "code",
   "execution_count": 51,
   "id": "9d8ed5ee",
   "metadata": {
    "ExecuteTime": {
     "end_time": "2022-04-13T09:22:53.873536Z",
     "start_time": "2022-04-13T09:22:53.850516Z"
    }
   },
   "outputs": [
    {
     "data": {
      "text/plain": [
       "0.6739273927392739"
      ]
     },
     "execution_count": 51,
     "metadata": {},
     "output_type": "execute_result"
    }
   ],
   "source": [
    "# Evaluate the randomized search randomforestClassifier model\n",
    "rs_log_reg.score(x_test, y_test)"
   ]
  },
  {
   "cell_type": "markdown",
   "id": "fe97f4b1",
   "metadata": {},
   "source": [
    "### `RandomForestClassifier` Model run"
   ]
  },
  {
   "cell_type": "code",
   "execution_count": 69,
   "id": "a8f56d2e",
   "metadata": {
    "ExecuteTime": {
     "end_time": "2022-04-13T10:08:42.496879Z",
     "start_time": "2022-04-13T09:50:07.900586Z"
    }
   },
   "outputs": [
    {
     "name": "stdout",
     "output_type": "stream",
     "text": [
      "Fitting 5 folds for each of 20 candidates, totalling 100 fits\n"
     ]
    },
    {
     "data": {
      "text/plain": [
       "RandomizedSearchCV(cv=5, estimator=RandomForestClassifier(), n_iter=20,\n",
       "                   param_distributions={'max_depth': [5, 8, 15, 25, 30],\n",
       "                                        'min_samples_leaf': [1, 2, 5, 10],\n",
       "                                        'min_samples_split': [2, 5, 10, 15,\n",
       "                                                              100],\n",
       "                                        'n_estimators': [100, 300, 500, 800,\n",
       "                                                         1200]},\n",
       "                   random_state=42, verbose=True)"
      ]
     },
     "execution_count": 69,
     "metadata": {},
     "output_type": "execute_result"
    }
   ],
   "source": [
    "n_estimators = [100, 300, 500, 800, 1200]\n",
    "max_depth = [5, 8, 15, 25, 30]\n",
    "min_samples_split = [2, 5, 10, 15, 100]\n",
    "min_samples_leaf = [1, 2, 5, 10] \n",
    "\n",
    "hyperF = dict(n_estimators = n_estimators, max_depth = max_depth,  \n",
    "              min_samples_split = min_samples_split, \n",
    "             min_samples_leaf = min_samples_leaf)\n",
    "\n",
    "rs_rfc = RandomizedSearchCV(RandomForestClassifier(),\n",
    "                            param_distributions=hyperF,\n",
    "                            cv=5,\n",
    "                            n_iter=20,\n",
    "                            verbose=True, \n",
    "                            random_state=42)\n",
    "rs_rfc.fit(x_train, y_train)"
   ]
  },
  {
   "cell_type": "code",
   "execution_count": 70,
   "id": "13ca83ba",
   "metadata": {
    "ExecuteTime": {
     "end_time": "2022-04-13T10:08:43.564958Z",
     "start_time": "2022-04-13T10:08:43.554109Z"
    }
   },
   "outputs": [
    {
     "data": {
      "text/plain": [
       "{'n_estimators': 800,\n",
       " 'min_samples_split': 5,\n",
       " 'min_samples_leaf': 1,\n",
       " 'max_depth': 30}"
      ]
     },
     "execution_count": 70,
     "metadata": {},
     "output_type": "execute_result"
    }
   ],
   "source": [
    "rs_rfc.best_params_"
   ]
  },
  {
   "cell_type": "code",
   "execution_count": 71,
   "id": "c0bf9731",
   "metadata": {
    "ExecuteTime": {
     "end_time": "2022-04-13T10:08:45.011424Z",
     "start_time": "2022-04-13T10:08:44.645645Z"
    }
   },
   "outputs": [
    {
     "data": {
      "text/plain": [
       "0.700990099009901"
      ]
     },
     "execution_count": 71,
     "metadata": {},
     "output_type": "execute_result"
    }
   ],
   "source": [
    "rs_rfc.score(x_test, y_test)"
   ]
  },
  {
   "cell_type": "code",
   "execution_count": 72,
   "id": "b5dbc3ec",
   "metadata": {
    "ExecuteTime": {
     "end_time": "2022-04-13T10:15:51.971363Z",
     "start_time": "2022-04-13T10:15:26.363396Z"
    }
   },
   "outputs": [
    {
     "data": {
      "text/plain": [
       "0.7042904290429043"
      ]
     },
     "execution_count": 72,
     "metadata": {},
     "output_type": "execute_result"
    }
   ],
   "source": [
    "# Create best params model for Random Forest Classifier\n",
    "model_rfc = RandomForestClassifier(random_state = None,\n",
    "                                   max_depth = 30,\n",
    "                                   n_estimators = 800,\n",
    "                                   min_samples_split = 5,\n",
    "                                   min_samples_leaf = 1)\n",
    "# Fit the model\n",
    "model_rfc.fit(x_train, y_train)\n",
    "# Check accuracy for this model\n",
    "model_rfc.score(x_test, y_test)"
   ]
  },
  {
   "cell_type": "markdown",
   "id": "24155968",
   "metadata": {},
   "source": [
    "### Predict data\n"
   ]
  },
  {
   "cell_type": "code",
   "execution_count": 83,
   "id": "c198f71b",
   "metadata": {
    "ExecuteTime": {
     "end_time": "2022-04-13T10:20:07.207888Z",
     "start_time": "2022-04-13T10:20:07.194845Z"
    }
   },
   "outputs": [
    {
     "data": {
      "text/plain": [
       "CustomerID                 0\n",
       "Age                       31\n",
       "Gender                     0\n",
       "City                      43\n",
       "State                      0\n",
       "No_of_orders_placed       72\n",
       "Sign_up_date              22\n",
       "Last_order_placed_date     0\n",
       "is_premium_member          0\n",
       "Women’s_Clothing           0\n",
       "Men’s_Clothing             0\n",
       "Kid’s_Clothing            23\n",
       "Home_&_Living             23\n",
       "Beauty                     0\n",
       "Electronics                0\n",
       "dtype: int64"
      ]
     },
     "execution_count": 83,
     "metadata": {},
     "output_type": "execute_result"
    }
   ],
   "source": [
    "df_test.isna().sum()"
   ]
  },
  {
   "cell_type": "code",
   "execution_count": 84,
   "id": "9f3b3e34",
   "metadata": {
    "ExecuteTime": {
     "end_time": "2022-04-13T10:20:08.580054Z",
     "start_time": "2022-04-13T10:20:08.533377Z"
    },
    "code_folding": []
   },
   "outputs": [],
   "source": [
    "# Fill null value\n",
    "df_test['Age'].fillna(value=df_test['Age'].median(), inplace=True) # For Age\n",
    "df_test['City'].fillna(value='None', inplace=True) # For City\n",
    "df_test['No_of_orders_placed'].fillna(value=0., inplace=True) # For No_of_orders_placed\n",
    "# For SignUpDate\n",
    "df_test['Sign_up_date'] = pd.DatetimeIndex(df_test['Sign_up_date'])\n",
    "df_test['Sign_up_Year'] = df_test['Sign_up_date'].dt.year\n",
    "df_test['Sign_up_Year'].fillna(df_test['Sign_up_Year'].median(), inplace=True)\n",
    "df_test['Sign_up_Month'] = df_test['Sign_up_date'].dt.month\n",
    "df_test['Sign_up_Month'].fillna(df_test['Sign_up_Month'].median(), inplace=True)\n",
    "df_test['Sign_up_Day'] = df_test['Sign_up_date'].dt.day\n",
    "df_test['Sign_up_Day'].fillna(df_test['Sign_up_Day'].median(), inplace=True)\n",
    "df_test.drop(columns=['Sign_up_date'], inplace=True)\n",
    "\n",
    "df_test['Last_order_placed_date'] = pd.DatetimeIndex(df_test['Last_order_placed_date'])\n",
    "df_test['Last_order_placed_Year'] = df_test['Last_order_placed_date'].dt.year\n",
    "df_test['Last_order_placed_Month'] = df_test['Last_order_placed_date'].dt.month\n",
    "df_test['Last_order_placed_Day'] = df_test['Last_order_placed_date'].dt.day\n",
    "df_test.drop(columns=['Last_order_placed_date'], inplace=True)\n",
    "\n",
    "df_test['Kid’s_Clothing'].fillna(value=df_test['Kid’s_Clothing'].median(), inplace=True) # For Kid’s_Clothing\n",
    "df_test['Home_&_Living'].fillna(value=df_test['Home_&_Living'].median(), inplace=True)  # For Home_&_Living"
   ]
  },
  {
   "cell_type": "code",
   "execution_count": 85,
   "id": "19612fa5",
   "metadata": {
    "ExecuteTime": {
     "end_time": "2022-04-13T10:20:09.836879Z",
     "start_time": "2022-04-13T10:20:09.801203Z"
    }
   },
   "outputs": [
    {
     "name": "stdout",
     "output_type": "stream",
     "text": [
      "<class 'pandas.core.frame.DataFrame'>\n",
      "RangeIndex: 1850 entries, 0 to 1849\n",
      "Data columns (total 19 columns):\n",
      " #   Column                   Non-Null Count  Dtype  \n",
      "---  ------                   --------------  -----  \n",
      " 0   CustomerID               1850 non-null   object \n",
      " 1   Age                      1850 non-null   float64\n",
      " 2   Gender                   1850 non-null   object \n",
      " 3   City                     1850 non-null   object \n",
      " 4   State                    1850 non-null   object \n",
      " 5   No_of_orders_placed      1850 non-null   float64\n",
      " 6   is_premium_member        1850 non-null   int64  \n",
      " 7   Women’s_Clothing         1850 non-null   float64\n",
      " 8   Men’s_Clothing           1850 non-null   float64\n",
      " 9   Kid’s_Clothing           1850 non-null   float64\n",
      " 10  Home_&_Living            1850 non-null   float64\n",
      " 11  Beauty                   1850 non-null   float64\n",
      " 12  Electronics              1850 non-null   float64\n",
      " 13  Sign_up_Year             1850 non-null   float64\n",
      " 14  Sign_up_Month            1850 non-null   float64\n",
      " 15  Sign_up_Day              1850 non-null   float64\n",
      " 16  Last_order_placed_Year   1850 non-null   int64  \n",
      " 17  Last_order_placed_Month  1850 non-null   int64  \n",
      " 18  Last_order_placed_Day    1850 non-null   int64  \n",
      "dtypes: float64(11), int64(4), object(4)\n",
      "memory usage: 274.7+ KB\n"
     ]
    }
   ],
   "source": [
    "df_test.info()"
   ]
  },
  {
   "cell_type": "code",
   "execution_count": 86,
   "id": "c9a9706f",
   "metadata": {
    "ExecuteTime": {
     "end_time": "2022-04-13T10:20:11.216698Z",
     "start_time": "2022-04-13T10:20:11.177022Z"
    }
   },
   "outputs": [],
   "source": [
    "labeled_test, df_test_ = convert_all_data_in_numeric(df_test)"
   ]
  },
  {
   "cell_type": "code",
   "execution_count": 87,
   "id": "4f08a9a4",
   "metadata": {
    "ExecuteTime": {
     "end_time": "2022-04-13T10:20:13.075503Z",
     "start_time": "2022-04-13T10:20:12.517075Z"
    }
   },
   "outputs": [],
   "source": [
    "y_pred = model_rfc.predict(df_test_)"
   ]
  },
  {
   "cell_type": "code",
   "execution_count": 88,
   "id": "2b5575e2",
   "metadata": {
    "ExecuteTime": {
     "end_time": "2022-04-13T10:20:39.786300Z",
     "start_time": "2022-04-13T10:20:39.757314Z"
    }
   },
   "outputs": [
    {
     "data": {
      "text/html": [
       "<div>\n",
       "<style scoped>\n",
       "    .dataframe tbody tr th:only-of-type {\n",
       "        vertical-align: middle;\n",
       "    }\n",
       "\n",
       "    .dataframe tbody tr th {\n",
       "        vertical-align: top;\n",
       "    }\n",
       "\n",
       "    .dataframe thead th {\n",
       "        text-align: right;\n",
       "    }\n",
       "</style>\n",
       "<table border=\"1\" class=\"dataframe\">\n",
       "  <thead>\n",
       "    <tr style=\"text-align: right;\">\n",
       "      <th></th>\n",
       "      <th>CustomerID</th>\n",
       "      <th>Preferred_Theme</th>\n",
       "    </tr>\n",
       "  </thead>\n",
       "  <tbody>\n",
       "    <tr>\n",
       "      <th>0</th>\n",
       "      <td>CusID_09654</td>\n",
       "      <td>New_UI</td>\n",
       "    </tr>\n",
       "    <tr>\n",
       "      <th>1</th>\n",
       "      <td>CusID_09727</td>\n",
       "      <td>Old_UI</td>\n",
       "    </tr>\n",
       "    <tr>\n",
       "      <th>2</th>\n",
       "      <td>CusID_07391</td>\n",
       "      <td>Old_UI</td>\n",
       "    </tr>\n",
       "    <tr>\n",
       "      <th>3</th>\n",
       "      <td>CusID_08577</td>\n",
       "      <td>New_UI</td>\n",
       "    </tr>\n",
       "    <tr>\n",
       "      <th>4</th>\n",
       "      <td>CusID_08122</td>\n",
       "      <td>New_UI</td>\n",
       "    </tr>\n",
       "    <tr>\n",
       "      <th>...</th>\n",
       "      <td>...</td>\n",
       "      <td>...</td>\n",
       "    </tr>\n",
       "    <tr>\n",
       "      <th>1845</th>\n",
       "      <td>CusID_02254</td>\n",
       "      <td>New_UI</td>\n",
       "    </tr>\n",
       "    <tr>\n",
       "      <th>1846</th>\n",
       "      <td>CusID_00977</td>\n",
       "      <td>Old_UI</td>\n",
       "    </tr>\n",
       "    <tr>\n",
       "      <th>1847</th>\n",
       "      <td>CusID_00148</td>\n",
       "      <td>New_UI</td>\n",
       "    </tr>\n",
       "    <tr>\n",
       "      <th>1848</th>\n",
       "      <td>CusID_04876</td>\n",
       "      <td>Old_UI</td>\n",
       "    </tr>\n",
       "    <tr>\n",
       "      <th>1849</th>\n",
       "      <td>CusID_05091</td>\n",
       "      <td>Old_UI</td>\n",
       "    </tr>\n",
       "  </tbody>\n",
       "</table>\n",
       "<p>1850 rows × 2 columns</p>\n",
       "</div>"
      ],
      "text/plain": [
       "       CustomerID Preferred_Theme\n",
       "0     CusID_09654          New_UI\n",
       "1     CusID_09727          Old_UI\n",
       "2     CusID_07391          Old_UI\n",
       "3     CusID_08577          New_UI\n",
       "4     CusID_08122          New_UI\n",
       "...           ...             ...\n",
       "1845  CusID_02254          New_UI\n",
       "1846  CusID_00977          Old_UI\n",
       "1847  CusID_00148          New_UI\n",
       "1848  CusID_04876          Old_UI\n",
       "1849  CusID_05091          Old_UI\n",
       "\n",
       "[1850 rows x 2 columns]"
      ]
     },
     "execution_count": 88,
     "metadata": {},
     "output_type": "execute_result"
    }
   ],
   "source": [
    "final_output = {'CustomerID': labeled_test['CustomerID'].inverse_transform(df_test_['CustomerID']),\n",
    "                'Preferred_Theme' : labeled['Preferred_Theme'].inverse_transform(y_pred)}\n",
    "\n",
    "final_output = pd.DataFrame(final_output)\n",
    "final_output"
   ]
  },
  {
   "cell_type": "code",
   "execution_count": 89,
   "id": "e5ee584d",
   "metadata": {
    "ExecuteTime": {
     "end_time": "2022-04-13T10:21:52.517158Z",
     "start_time": "2022-04-13T10:21:52.485241Z"
    }
   },
   "outputs": [],
   "source": [
    "final_output.to_csv('Submission.csv')"
   ]
  },
  {
   "cell_type": "code",
   "execution_count": null,
   "id": "a66a3e70",
   "metadata": {},
   "outputs": [],
   "source": []
  }
 ],
 "metadata": {
  "kernelspec": {
   "display_name": "Python 3 (ipykernel)",
   "language": "python",
   "name": "python3"
  },
  "language_info": {
   "codemirror_mode": {
    "name": "ipython",
    "version": 3
   },
   "file_extension": ".py",
   "mimetype": "text/x-python",
   "name": "python",
   "nbconvert_exporter": "python",
   "pygments_lexer": "ipython3",
   "version": "3.9.9"
  },
  "latex_envs": {
   "LaTeX_envs_menu_present": true,
   "autoclose": true,
   "autocomplete": true,
   "bibliofile": "biblio.bib",
   "cite_by": "apalike",
   "current_citInitial": 1,
   "eqLabelWithNumbers": true,
   "eqNumInitial": 1,
   "hotkeys": {
    "equation": "Ctrl-E",
    "itemize": "Ctrl-I"
   },
   "labels_anchors": false,
   "latex_user_defs": false,
   "report_style_numbering": true,
   "user_envs_cfg": true
  },
  "toc": {
   "base_numbering": 1,
   "nav_menu": {},
   "number_sections": true,
   "sideBar": true,
   "skip_h1_title": false,
   "title_cell": "Table of Contents",
   "title_sidebar": "Contents",
   "toc_cell": false,
   "toc_position": {},
   "toc_section_display": true,
   "toc_window_display": false
  },
  "varInspector": {
   "cols": {
    "lenName": 16,
    "lenType": 16,
    "lenVar": 40
   },
   "kernels_config": {
    "python": {
     "delete_cmd_postfix": "",
     "delete_cmd_prefix": "del ",
     "library": "var_list.py",
     "varRefreshCmd": "print(var_dic_list())"
    },
    "r": {
     "delete_cmd_postfix": ") ",
     "delete_cmd_prefix": "rm(",
     "library": "var_list.r",
     "varRefreshCmd": "cat(var_dic_list()) "
    }
   },
   "types_to_exclude": [
    "module",
    "function",
    "builtin_function_or_method",
    "instance",
    "_Feature"
   ],
   "window_display": false
  }
 },
 "nbformat": 4,
 "nbformat_minor": 5
}
